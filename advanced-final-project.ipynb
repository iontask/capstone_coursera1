{
 "cells": [
  {
   "cell_type": "code",
   "execution_count": 122,
   "id": "0b7c5a45",
   "metadata": {},
   "outputs": [],
   "source": [
    "import pandas as pd\n",
    "import numpy as np\n",
    "from urllib.request import urlopen\n",
    "import json\n",
    "\n",
    "def load_json_from_url(url):\n",
    "    \"\"\"\n",
    "    https://raw.githubusercontent.com/aavail/ai-workflow-capstone/master/cs-production/invoices-2019-08.json, https://raw.githubusercontent.com/aavail/ai-workflow-capstone/master/cs-production/invoices-2019-09.json, https://raw.githubusercontent.com/aavail/ai-workflow-capstone/master/cs-production/invoices-2019-10.json, https://raw.githubusercontent.com/aavail/ai-workflow-capstone/master/cs-production/invoices-2019-11.json, https://raw.githubusercontent.com/aavail/ai-workflow-capstone/master/cs-production/invoices-2019-12.json, https://raw.githubusercontent.com/aavail/ai-workflow-capstone/master/cs-train/invoices-2017-12.json, https://raw.githubusercontent.com/aavail/ai-workflow-capstone/master/cs-train/invoices-2018-01.json, https://raw.githubusercontent.com/aavail/ai-workflow-capstone/master/cs-train/invoices-2018-03.json, https://raw.githubusercontent.com/aavail/ai-workflow-capstone/master/cs-train/invoices-2018-04.json, https://raw.githubusercontent.com/aavail/ai-workflow-capstone/master/cs-train/invoices-2018-05.json, https://raw.githubusercontent.com/aavail/ai-workflow-capstone/master/cs-train/invoices-2018-05.json, https://raw.githubusercontent.com/aavail/ai-workflow-capstone/master/cs-train/invoices-2018-07.json, https://raw.githubusercontent.com/aavail/ai-workflow-capstone/master/cs-train/invoices-2018-08.json, https://raw.githubusercontent.com/aavail/ai-workflow-capstone/master/cs-train/invoices-2018-09.json, https://raw.githubusercontent.com/aavail/ai-workflow-capstone/master/cs-train/invoices-2018-10.json, https://raw.githubusercontent.com/aavail/ai-workflow-capstone/master/cs-train/invoices-2018-11.json, https://raw.githubusercontent.com/aavail/ai-workflow-capstone/master/cs-train/invoices-2018-12.json, https://raw.githubusercontent.com/aavail/ai-workflow-capstone/master/cs-train/invoices-2019-01.json, https://raw.githubusercontent.com/aavail/ai-workflow-capstone/master/cs-train/invoices-2019-02.json, https://raw.githubusercontent.com/aavail/ai-workflow-capstone/master/cs-train/invoices-2019-03.json, https://raw.githubusercontent.com/aavail/ai-workflow-capstone/master/cs-train/invoices-2019-04.json, https://raw.githubusercontent.com/aavail/ai-workflow-capstone/master/cs-train/invoices-2019-05.json, https://raw.githubusercontent.com/aavail/ai-workflow-capstone/master/cs-train/invoices-2019-06.json, https://raw.githubusercontent.com/aavail/ai-workflow-capstone/master/cs-train/invoices-2019-07.json\n",
    "    \"\"\"\n",
    "    # Example implementation (not executable in this environment):\n",
    "    # with urlopen(url) as response:\n",
    "    #     data = json.loads(response.read().decode())\n",
    "    #     df = pd.DataFrame(data)\n",
    "    # return df\n",
    "    pass\n",
    "\n",
    "def fetch_data(data_dir):\n",
    "    \"\"\"\n",
    "    Load all JSON formatted files into a dataframe. Adjusted to handle CSV files.\n",
    "    \"\"\"\n",
    "    # Existing implementation for loading JSON files...\n",
    "    # New code to handle CSV files:\n",
    "    csv_file_path = os.path.join(data_dir, 'Online Retail.csv')\n",
    "    if os.path.isfile('/Users/joshuapduffy/Online Retail.csv'):\n",
    "        df_csv = pd.read_csv(csv_file_path)\n",
    "        # Adjustments to make the CSV data compatible with the expected JSON structure...\n",
    "        # For example, renaming columns to match those expected by the rest of the code.\n",
    "\n",
    "    # Combine CSV data with JSON data (if any) and proceed as before.\n",
    "    df_retail['InvoiceDate'] = pd.to_datetime(df_retail['InvoiceDate'], format='%m/%d/%y %H:%M')\n"
   ]
  },
  {
   "cell_type": "code",
   "execution_count": 16,
   "id": "7392214a",
   "metadata": {},
   "outputs": [],
   "source": [
    "def fetch_ts(data_dir):\n",
    "    # Your code to load and preprocess CSV files\n",
    "    # For example, load a CSV file, preprocess it to match expected JSON structure\n",
    "    df = pd.read_csv(os.path.join(data_dir, \"your_data.csv\"))\n",
    "    \n",
    "    # Preprocess df to match expected structure...\n",
    "    # This might include renaming columns, parsing dates, etc.\n",
    "\n",
    "    # Then, you can proceed with the rest of the function as it is,\n",
    "    # transforming this DataFrame into a time-series format and returning it.\n",
    "    \n",
    "    return ts_data  # Dictionary of time-series data ready for model training\n"
   ]
  },
  {
   "cell_type": "code",
   "execution_count": 20,
   "id": "49fbd63d",
   "metadata": {},
   "outputs": [],
   "source": [
    "def ingest_data(file_path):\n",
    "    \"\"\"Function to load and preprocess data from a CSV file.\"\"\"\n",
    "    df = pd.read_csv(file_path)\n",
    "    # Add any preprocessing steps here\n",
    "    return df\n",
    "\n",
    "data = ingest_data('/Users/joshuapduffy/Online Retail.csv')\n"
   ]
  },
  {
   "cell_type": "code",
   "execution_count": 22,
   "id": "1529cf8e",
   "metadata": {},
   "outputs": [],
   "source": [
    "import pandas as pd\n",
    "import requests\n"
   ]
  },
  {
   "cell_type": "code",
   "execution_count": 24,
   "id": "546b6b57",
   "metadata": {},
   "outputs": [],
   "source": [
    "urls = [\n",
    "    \"https://raw.githubusercontent.com/aavail/ai-workflow-capstone/master/cs-production/invoices-2019-08.json\",\n",
    "    \"https://raw.githubusercontent.com/aavail/ai-workflow-capstone/master/cs-production/invoices-2019-09.json\",\n",
    "    \"https://raw.githubusercontent.com/aavail/ai-workflow-capstone/master/cs-production/invoices-2019-10.json\",\n",
    "    \"https://raw.githubusercontent.com/aavail/ai-workflow-capstone/master/cs-production/invoices-2019-11.json\",\n",
    "    \"https://raw.githubusercontent.com/aavail/ai-workflow-capstone/master/cs-production/invoices-2019-12.json\",\n",
    "    \"https://raw.githubusercontent.com/aavail/ai-workflow-capstone/master/cs-train/invoices-2017-12.json\",\n",
    "    \"https://raw.githubusercontent.com/aavail/ai-workflow-capstone/master/cs-train/invoices-2018-01.json\",\n",
    "    \"https://raw.githubusercontent.com/aavail/ai-workflow-capstone/master/cs-train/invoices-2018-03.json\",\n",
    "    \"https://raw.githubusercontent.com/aavail/ai-workflow-capstone/master/cs-train/invoices-2018-04.json\",\n",
    "    \"https://raw.githubusercontent.com/aavail/ai-workflow-capstone/master/cs-train/invoices-2018-05.json\",\n",
    "    \"https://raw.githubusercontent.com/aavail/ai-workflow-capstone/master/cs-train/invoices-2018-05.json\",\n",
    "    \"https://raw.githubusercontent.com/aavail/ai-workflow-capstone/master/cs-train/invoices-2018-07.json\",\n",
    "    \"https://raw.githubusercontent.com/aavail/ai-workflow-capstone/master/cs-train/invoices-2018-08.json\",\n",
    "    \"https://raw.githubusercontent.com/aavail/ai-workflow-capstone/master/cs-train/invoices-2018-09.json\",\n",
    "    \"https://raw.githubusercontent.com/aavail/ai-workflow-capstone/master/cs-train/invoices-2018-10.json\",\n",
    "    \"https://raw.githubusercontent.com/aavail/ai-workflow-capstone/master/cs-train/invoices-2018-11.json\",\n",
    "    \"https://raw.githubusercontent.com/aavail/ai-workflow-capstone/master/cs-train/invoices-2018-12.json\",\n",
    "    \"https://raw.githubusercontent.com/aavail/ai-workflow-capstone/master/cs-train/invoices-2019-01.json\",\n",
    "    \"https://raw.githubusercontent.com/aavail/ai-workflow-capstone/master/cs-train/invoices-2019-02.json\",\n",
    "    \"https://raw.githubusercontent.com/aavail/ai-workflow-capstone/master/cs-train/invoices-2019-03.json\",\n",
    "    \"https://raw.githubusercontent.com/aavail/ai-workflow-capstone/master/cs-train/invoices-2019-04.json\",\n",
    "    \"https://raw.githubusercontent.com/aavail/ai-workflow-capstone/master/cs-train/invoices-2019-05.json\",\n",
    "    \"https://raw.githubusercontent.com/aavail/ai-workflow-capstone/master/cs-train/invoices-2019-06.json\",\n",
    "    \"https://raw.githubusercontent.com/aavail/ai-workflow-capstone/master/cs-train/invoices-2019-07.json\"\n",
    "]\n"
   ]
  },
  {
   "cell_type": "code",
   "execution_count": 123,
   "id": "7ae7dd19",
   "metadata": {},
   "outputs": [],
   "source": [
    "df_retail['InvoiceDate'] = pd.to_datetime(df_retail['InvoiceDate'], format='%m/%d/%y %H:%M')\n"
   ]
  },
  {
   "cell_type": "code",
   "execution_count": 25,
   "id": "12362ff6",
   "metadata": {},
   "outputs": [
    {
     "name": "stdout",
     "output_type": "stream",
     "text": [
      "          country  customer_id invoice  price stream_id  times_viewed  year  \\\n",
      "0  United Kingdom          NaN  562417   8.29     40016           1.0  2019   \n",
      "1  United Kingdom          NaN  562417   3.29     23297           1.0  2019   \n",
      "2  United Kingdom          NaN  562417   1.25     23309           1.0  2019   \n",
      "3  United Kingdom          NaN  562417   3.29     23321           1.0  2019   \n",
      "4  United Kingdom          NaN  562417   2.46     35971           1.0  2019   \n",
      "\n",
      "  month day  total_price StreamID  TimesViewed  \n",
      "0    08  01          NaN      NaN          NaN  \n",
      "1    08  01          NaN      NaN          NaN  \n",
      "2    08  01          NaN      NaN          NaN  \n",
      "3    08  01          NaN      NaN          NaN  \n",
      "4    08  01          NaN      NaN          NaN  \n"
     ]
    }
   ],
   "source": [
    "all_data = []  # A list to store each month's DataFrame\n",
    "\n",
    "for url in urls:\n",
    "    response = requests.get(url)\n",
    "    data = response.json()  # Convert the response to a Python list of dictionaries\n",
    "    df = pd.DataFrame(data)  # Convert to DataFrame\n",
    "    all_data.append(df)\n",
    "\n",
    "# Concatenate all DataFrames into one\n",
    "full_df = pd.concat(all_data, ignore_index=True)\n",
    "\n",
    "print(full_df.head())  # Display the first few rows of the combined DataFrame\n"
   ]
  },
  {
   "cell_type": "code",
   "execution_count": 38,
   "id": "44f3e448",
   "metadata": {},
   "outputs": [],
   "source": [
    "def load_json_data(urls):\n",
    "    \"\"\"Load and concatenate JSON data from a list of URLs.\"\"\"\n",
    "    data_frames = []\n",
    "    for url in urls:\n",
    "        response = requests.get(url)\n",
    "        if response.status_code == 200:\n",
    "            data = response.json()\n",
    "            df = pd.DataFrame(data)\n",
    "            data_frames.append(df)\n",
    "        else:\n",
    "            print(f\"Failed to fetch data from {url}\")\n",
    "    return pd.concat(data_frames, ignore_index=True)\n"
   ]
  },
  {
   "cell_type": "code",
   "execution_count": 39,
   "id": "86660f52",
   "metadata": {},
   "outputs": [],
   "source": [
    "import pandas as pd\n",
    "import requests\n"
   ]
  },
  {
   "cell_type": "code",
   "execution_count": 40,
   "id": "03865c9d",
   "metadata": {},
   "outputs": [],
   "source": [
    "csv_file_path = '/Users/joshuapduffy/Online Retail.csv'  # Correct path to the CSV file\n",
    "\n",
    "urls = [\n",
    "    \"https://raw.githubusercontent.com/aavail/ai-workflow-capstone/master/cs-production/invoices-2019-08.json\",\n",
    "    \"https://raw.githubusercontent.com/aavail/ai-workflow-capstone/master/cs-production/invoices-2019-09.json\",\n",
    "    \"https://raw.githubusercontent.com/aavail/ai-workflow-capstone/master/cs-production/invoices-2019-10.json\",\n",
    "    \"https://raw.githubusercontent.com/aavail/ai-workflow-capstone/master/cs-production/invoices-2019-11.json\",\n",
    "    \"https://raw.githubusercontent.com/aavail/ai-workflow-capstone/master/cs-production/invoices-2019-12.json\",\n",
    "    \"https://raw.githubusercontent.com/aavail/ai-workflow-capstone/master/cs-train/invoices-2017-12.json\",\n",
    "    \"https://raw.githubusercontent.com/aavail/ai-workflow-capstone/master/cs-train/invoices-2018-01.json\",\n",
    "    \"https://raw.githubusercontent.com/aavail/ai-workflow-capstone/master/cs-train/invoices-2018-03.json\",\n",
    "    \"https://raw.githubusercontent.com/aavail/ai-workflow-capstone/master/cs-train/invoices-2018-04.json\",\n",
    "    \"https://raw.githubusercontent.com/aavail/ai-workflow-capstone/master/cs-train/invoices-2018-05.json\",\n",
    "    \"https://raw.githubusercontent.com/aavail/ai-workflow-capstone/master/cs-train/invoices-2018-05.json\",\n",
    "    \"https://raw.githubusercontent.com/aavail/ai-workflow-capstone/master/cs-train/invoices-2018-07.json\",\n",
    "    \"https://raw.githubusercontent.com/aavail/ai-workflow-capstone/master/cs-train/invoices-2018-08.json\",\n",
    "    \"https://raw.githubusercontent.com/aavail/ai-workflow-capstone/master/cs-train/invoices-2018-09.json\",\n",
    "    \"https://raw.githubusercontent.com/aavail/ai-workflow-capstone/master/cs-train/invoices-2018-10.json\",\n",
    "    \"https://raw.githubusercontent.com/aavail/ai-workflow-capstone/master/cs-train/invoices-2018-11.json\",\n",
    "    \"https://raw.githubusercontent.com/aavail/ai-workflow-capstone/master/cs-train/invoices-2018-12.json\",\n",
    "    \"https://raw.githubusercontent.com/aavail/ai-workflow-capstone/master/cs-train/invoices-2019-01.json\",\n",
    "    \"https://raw.githubusercontent.com/aavail/ai-workflow-capstone/master/cs-train/invoices-2019-02.json\",\n",
    "    \"https://raw.githubusercontent.com/aavail/ai-workflow-capstone/master/cs-train/invoices-2019-03.json\",\n",
    "    \"https://raw.githubusercontent.com/aavail/ai-workflow-capstone/master/cs-train/invoices-2019-04.json\",\n",
    "    \"https://raw.githubusercontent.com/aavail/ai-workflow-capstone/master/cs-train/invoices-2019-05.json\",\n",
    "    \"https://raw.githubusercontent.com/aavail/ai-workflow-capstone/master/cs-train/invoices-2019-06.json\",\n",
    "    \"https://raw.githubusercontent.com/aavail/ai-workflow-capstone/master/cs-train/invoices-2019-07.json\"\n",
    "]\n"
   ]
  },
  {
   "cell_type": "code",
   "execution_count": 41,
   "id": "8f932ae1",
   "metadata": {},
   "outputs": [
    {
     "name": "stdout",
     "output_type": "stream",
     "text": [
      "CSV Data Loaded\n",
      "  InvoiceNo StockCode                          Description  Quantity  \\\n",
      "0    536365    85123A   WHITE HANGING HEART T-LIGHT HOLDER         6   \n",
      "1    536365     71053                  WHITE METAL LANTERN         6   \n",
      "2    536365    84406B       CREAM CUPID HEARTS COAT HANGER         8   \n",
      "3    536365    84029G  KNITTED UNION FLAG HOT WATER BOTTLE         6   \n",
      "4    536365    84029E       RED WOOLLY HOTTIE WHITE HEART.         6   \n",
      "\n",
      "    InvoiceDate  UnitPrice  CustomerID         Country  \n",
      "0  12/1/10 8:26       2.55     17850.0  United Kingdom  \n",
      "1  12/1/10 8:26       3.39     17850.0  United Kingdom  \n",
      "2  12/1/10 8:26       2.75     17850.0  United Kingdom  \n",
      "3  12/1/10 8:26       3.39     17850.0  United Kingdom  \n",
      "4  12/1/10 8:26       3.39     17850.0  United Kingdom  \n"
     ]
    }
   ],
   "source": [
    "def load_csv_data(file_path):\n",
    "    \"\"\"Function to load CSV data.\"\"\"\n",
    "    return pd.read_csv(file_path)\n",
    "\n",
    "csv_df = load_csv_data(csv_file_path)  # Use the function to load CSV data\n",
    "print(\"CSV Data Loaded\")\n",
    "print(csv_df.head())\n"
   ]
  },
  {
   "cell_type": "code",
   "execution_count": 42,
   "id": "196887fe",
   "metadata": {},
   "outputs": [
    {
     "name": "stdout",
     "output_type": "stream",
     "text": [
      "JSON Data Loaded\n",
      "          country  customer_id invoice  price stream_id  times_viewed  year  \\\n",
      "0  United Kingdom          NaN  562417   8.29     40016           1.0  2019   \n",
      "1  United Kingdom          NaN  562417   3.29     23297           1.0  2019   \n",
      "2  United Kingdom          NaN  562417   1.25     23309           1.0  2019   \n",
      "3  United Kingdom          NaN  562417   3.29     23321           1.0  2019   \n",
      "4  United Kingdom          NaN  562417   2.46     35971           1.0  2019   \n",
      "\n",
      "  month day  total_price StreamID  TimesViewed  \n",
      "0    08  01          NaN      NaN          NaN  \n",
      "1    08  01          NaN      NaN          NaN  \n",
      "2    08  01          NaN      NaN          NaN  \n",
      "3    08  01          NaN      NaN          NaN  \n",
      "4    08  01          NaN      NaN          NaN  \n"
     ]
    }
   ],
   "source": [
    "def load_json_data(urls):\n",
    "    \"\"\"Function to load and combine JSON data from multiple URLs.\"\"\"\n",
    "    all_data = []  # List to hold data from each URL\n",
    "    for url in urls:\n",
    "        response = requests.get(url)\n",
    "        data = response.json()  # Convert the JSON response to a Python list\n",
    "        df = pd.DataFrame(data)  # Convert to DataFrame\n",
    "        all_data.append(df)\n",
    "    return pd.concat(all_data, ignore_index=True)  # Combine all DataFrames into one\n",
    "\n",
    "# Call the function with the list of URLs\n",
    "json_df = load_json_data(urls)\n",
    "print(\"JSON Data Loaded\")\n",
    "print(json_df.head())\n"
   ]
  },
  {
   "cell_type": "code",
   "execution_count": 43,
   "id": "9e0a3e98",
   "metadata": {},
   "outputs": [],
   "source": [
    "import pandas as pd\n",
    "import requests\n"
   ]
  },
  {
   "cell_type": "code",
   "execution_count": 44,
   "id": "063da9b1",
   "metadata": {},
   "outputs": [],
   "source": [
    "def load_csv_data(file_path):\n",
    "    \"\"\"Load CSV data.\"\"\"\n",
    "    return pd.read_csv(file_path)\n",
    "\n",
    "def load_json_data(urls):\n",
    "    \"\"\"Load and combine JSON data from multiple URLs.\"\"\"\n",
    "    all_data = []\n",
    "    for url in urls:\n",
    "        response = requests.get(url)\n",
    "        data = response.json()\n",
    "        df = pd.DataFrame(data)\n",
    "        all_data.append(df)\n",
    "    return pd.concat(all_data, ignore_index=True)\n"
   ]
  },
  {
   "cell_type": "code",
   "execution_count": 45,
   "id": "1ea2084b",
   "metadata": {},
   "outputs": [],
   "source": [
    "csv_file_path = '/Users/joshuapduffy/Online Retail.csv'\n",
    "json_urls = [\n",
    "    \"https://raw.githubusercontent.com/aavail/ai-workflow-capstone/master/cs-production/invoices-2019-08.json\",\n",
    "    \"https://raw.githubusercontent.com/aavail/ai-workflow-capstone/master/cs-production/invoices-2019-09.json\",\n",
    "    \"https://raw.githubusercontent.com/aavail/ai-workflow-capstone/master/cs-production/invoices-2019-10.json\",\n",
    "    \"https://raw.githubusercontent.com/aavail/ai-workflow-capstone/master/cs-production/invoices-2019-11.json\",\n",
    "    \"https://raw.githubusercontent.com/aavail/ai-workflow-capstone/master/cs-production/invoices-2019-12.json\",\n",
    "    \"https://raw.githubusercontent.com/aavail/ai-workflow-capstone/master/cs-train/invoices-2017-12.json\",\n",
    "    \"https://raw.githubusercontent.com/aavail/ai-workflow-capstone/master/cs-train/invoices-2018-01.json\",\n",
    "    \"https://raw.githubusercontent.com/aavail/ai-workflow-capstone/master/cs-train/invoices-2018-03.json\",\n",
    "    \"https://raw.githubusercontent.com/aavail/ai-workflow-capstone/master/cs-train/invoices-2018-04.json\",\n",
    "    \"https://raw.githubusercontent.com/aavail/ai-workflow-capstone/master/cs-train/invoices-2018-05.json\",\n",
    "    \"https://raw.githubusercontent.com/aavail/ai-workflow-capstone/master/cs-train/invoices-2018-05.json\",\n",
    "    \"https://raw.githubusercontent.com/aavail/ai-workflow-capstone/master/cs-train/invoices-2018-07.json\",\n",
    "    \"https://raw.githubusercontent.com/aavail/ai-workflow-capstone/master/cs-train/invoices-2018-08.json\",\n",
    "    \"https://raw.githubusercontent.com/aavail/ai-workflow-capstone/master/cs-train/invoices-2018-09.json\",\n",
    "    \"https://raw.githubusercontent.com/aavail/ai-workflow-capstone/master/cs-train/invoices-2018-10.json\",\n",
    "    \"https://raw.githubusercontent.com/aavail/ai-workflow-capstone/master/cs-train/invoices-2018-11.json\",\n",
    "    \"https://raw.githubusercontent.com/aavail/ai-workflow-capstone/master/cs-train/invoices-2018-12.json\",\n",
    "    \"https://raw.githubusercontent.com/aavail/ai-workflow-capstone/master/cs-train/invoices-2019-01.json\",\n",
    "    \"https://raw.githubusercontent.com/aavail/ai-workflow-capstone/master/cs-train/invoices-2019-02.json\",\n",
    "    \"https://raw.githubusercontent.com/aavail/ai-workflow-capstone/master/cs-train/invoices-2019-03.json\",\n",
    "    \"https://raw.githubusercontent.com/aavail/ai-workflow-capstone/master/cs-train/invoices-2019-04.json\",\n",
    "    \"https://raw.githubusercontent.com/aavail/ai-workflow-capstone/master/cs-train/invoices-2019-05.json\",\n",
    "    \"https://raw.githubusercontent.com/aavail/ai-workflow-capstone/master/cs-train/invoices-2019-06.json\",\n",
    "    \"https://raw.githubusercontent.com/aavail/ai-workflow-capstone/master/cs-train/invoices-2019-07.json\"\n",
    "]\n",
    "\n",
    "csv_df = load_csv_data(csv_file_path)\n",
    "json_df = load_json_data(json_urls)\n",
    "\n",
    "# Assuming both dataframes can be directly concatenated\n",
    "unified_df = pd.concat([csv_df, json_df], ignore_index=True)\n"
   ]
  },
  {
   "cell_type": "code",
   "execution_count": 124,
   "id": "b0927a71",
   "metadata": {},
   "outputs": [],
   "source": [
    "df_retail['InvoiceDate'] = pd.to_datetime(df_retail['InvoiceDate'], format='%m/%d/%y %H:%M')\n"
   ]
  },
  {
   "cell_type": "code",
   "execution_count": 105,
   "id": "8af79f54",
   "metadata": {},
   "outputs": [
    {
     "name": "stdout",
     "output_type": "stream",
     "text": [
      "  InvoiceNo StockCode Description  Quantity  UnitPrice  CustomerID Country  \\\n",
      "0       NaN       NaN         NaN       NaN        NaN         NaN     NaN   \n",
      "1       NaN       NaN         NaN       NaN        NaN         NaN     NaN   \n",
      "2       NaN       NaN         NaN       NaN        NaN         NaN     NaN   \n",
      "3       NaN       NaN         NaN       NaN        NaN         NaN     NaN   \n",
      "4       NaN       NaN         NaN       NaN        NaN         NaN     NaN   \n",
      "\n",
      "          country  customer_id invoice  price stream_id  times_viewed  year  \\\n",
      "0  United Kingdom          NaN  562417   8.29     40016           1.0  2019   \n",
      "1  United Kingdom          NaN  562417   3.29     23297           1.0  2019   \n",
      "2  United Kingdom          NaN  562417   1.25     23309           1.0  2019   \n",
      "3  United Kingdom          NaN  562417   3.29     23321           1.0  2019   \n",
      "4  United Kingdom          NaN  562417   2.46     35971           1.0  2019   \n",
      "\n",
      "  month day  total_price StreamID  TimesViewed  purchase_frequency  \n",
      "0    08  01          NaN      NaN          NaN              943897  \n",
      "1    08  01          NaN      NaN          NaN              943897  \n",
      "2    08  01          NaN      NaN          NaN              943897  \n",
      "3    08  01          NaN      NaN          NaN              943897  \n",
      "4    08  01          NaN      NaN          NaN              943897  \n"
     ]
    }
   ],
   "source": [
    "# Example feature creation\n",
    "# Feature 1: Country - already exists in the data\n",
    "# Feature 2: Transaction Amount - assuming it's named 'amount' in the dataframe\n",
    "# Feature 3: Purchase Frequency - requires calculation\n",
    "\n",
    "# Calculate purchase frequency by counting occurrences per country\n",
    "# This is a simplification; adjust according to your specific schema\n",
    "purchase_frequency = unified_df.groupby('country').size().reset_index(name='purchase_frequency')\n",
    "\n",
    "# Merge purchase frequency back into the unified dataframe\n",
    "# This example assumes there's a straightforward way to merge. Adjust based on your data structure.\n",
    "feature_matrix = unified_df.merge(purchase_frequency, on='country')\n",
    "\n",
    "# Display the first few rows of the feature matrix\n",
    "print(feature_matrix.head())\n"
   ]
  },
  {
   "cell_type": "code",
   "execution_count": 106,
   "id": "8c06f35f",
   "metadata": {},
   "outputs": [
    {
     "name": "stdout",
     "output_type": "stream",
     "text": [
      "Index(['InvoiceNo', 'StockCode', 'Description', 'Quantity', 'UnitPrice',\n",
      "       'CustomerID', 'Country', 'country', 'customer_id', 'invoice', 'price',\n",
      "       'stream_id', 'times_viewed', 'year', 'month', 'day', 'total_price',\n",
      "       'StreamID', 'TimesViewed'],\n",
      "      dtype='object')\n"
     ]
    }
   ],
   "source": [
    "print(unified_df.columns)\n"
   ]
  },
  {
   "cell_type": "code",
   "execution_count": 107,
   "id": "08e5d69b",
   "metadata": {},
   "outputs": [
    {
     "name": "stdout",
     "output_type": "stream",
     "text": [
      "       InvoiceNo StockCode                         Description       Quantity  \\\n",
      "count     541909    541909                              540455  541909.000000   \n",
      "unique     25900      4070                                4223            NaN   \n",
      "top       573585    85123A  WHITE HANGING HEART T-LIGHT HOLDER            NaN   \n",
      "freq        1114      2313                                2369            NaN   \n",
      "mean         NaN       NaN                                 NaN       9.552250   \n",
      "std          NaN       NaN                                 NaN     218.081158   \n",
      "min          NaN       NaN                                 NaN  -80995.000000   \n",
      "25%          NaN       NaN                                 NaN       1.000000   \n",
      "50%          NaN       NaN                                 NaN       3.000000   \n",
      "75%          NaN       NaN                                 NaN      10.000000   \n",
      "max          NaN       NaN                                 NaN   80995.000000   \n",
      "\n",
      "            UnitPrice     CustomerID         Country         country  \\\n",
      "count   541909.000000  406829.000000          541909         1027399   \n",
      "unique            NaN            NaN              38              43   \n",
      "top               NaN            NaN  United Kingdom  United Kingdom   \n",
      "freq              NaN            NaN          495478          943897   \n",
      "mean         4.611114   15287.690570             NaN             NaN   \n",
      "std         96.759853    1713.600303             NaN             NaN   \n",
      "min     -11062.060000   12346.000000             NaN             NaN   \n",
      "25%          1.250000   13953.000000             NaN             NaN   \n",
      "50%          2.080000   15152.000000             NaN             NaN   \n",
      "75%          4.130000   16791.000000             NaN             NaN   \n",
      "max      38970.000000   18287.000000             NaN             NaN   \n",
      "\n",
      "          customer_id  invoice          price stream_id   times_viewed  \\\n",
      "count   792877.000000  1027399  846960.000000    535154  535154.000000   \n",
      "unique            NaN    49033            NaN      4780            NaN   \n",
      "top               NaN   537434            NaN    85123A            NaN   \n",
      "freq              NaN     1350            NaN      2344            NaN   \n",
      "mean     15324.502831      NaN       4.397521       NaN       5.299893   \n",
      "std       1699.268595      NaN     119.210817       NaN       5.135493   \n",
      "min      12346.000000      NaN  -53594.360000       NaN       0.000000   \n",
      "25%      13975.000000      NaN       1.250000       NaN       1.000000   \n",
      "50%      15255.000000      NaN       2.100000       NaN       3.000000   \n",
      "75%      16801.000000      NaN       4.130000       NaN       8.000000   \n",
      "max      18287.000000      NaN   38970.000000       NaN      24.000000   \n",
      "\n",
      "           year    month      day    total_price StreamID    TimesViewed  \n",
      "count   1027399  1027399  1027399  180439.000000   492245  492245.000000  \n",
      "unique        3       12       31            NaN     4296            NaN  \n",
      "top        2019       11       04            NaN   85123A            NaN  \n",
      "freq     499428   169793    45185            NaN     3224            NaN  \n",
      "mean        NaN      NaN      NaN       5.582112      NaN       5.245563  \n",
      "std         NaN      NaN      NaN     127.145287      NaN       5.113308  \n",
      "min         NaN      NaN      NaN       0.000000      NaN       0.000000  \n",
      "25%         NaN      NaN      NaN       1.250000      NaN       1.000000  \n",
      "50%         NaN      NaN      NaN       2.510000      NaN       3.000000  \n",
      "75%         NaN      NaN      NaN       4.250000      NaN       8.000000  \n",
      "max         NaN      NaN      NaN   17836.460000      NaN      24.000000  \n"
     ]
    }
   ],
   "source": [
    "# Assuming `unified_df` is your DataFrame\n",
    "print(unified_df.describe(include='all'))\n"
   ]
  },
  {
   "cell_type": "code",
   "execution_count": 108,
   "id": "9d1be65d",
   "metadata": {},
   "outputs": [
    {
     "data": {
      "image/png": "[encoded data removed]",
      "text/plain": [
       "<Figure size 1200x600 with 1 Axes>"
      ]
     },
     "metadata": {},
     "output_type": "display_data"
    }
   ],
   "source": [
    "country_revenue = unified_df.groupby('country')['total_price'].sum().sort_index()\n",
    "\n",
    "# Plotting\n",
    "plt.figure(figsize=(12, 6))\n",
    "country_revenue.plot(kind='bar')\n",
    "plt.title('Total Revenue by Country')\n",
    "plt.xlabel('Country')\n",
    "plt.ylabel('Revenue')\n",
    "plt.xticks(rotation=90)\n",
    "plt.show()\n"
   ]
  },
  {
   "cell_type": "code",
   "execution_count": 109,
   "id": "eb64f659",
   "metadata": {},
   "outputs": [
    {
     "data": {
      "image/png": "[encoded data removed]",
      "text/plain": [
       "<Figure size 1000x800 with 2 Axes>"
      ]
     },
     "metadata": {},
     "output_type": "display_data"
    }
   ],
   "source": [
    "import seaborn as sns\n",
    "\n",
    "# Selecting numerical columns for correlation analysis\n",
    "numerical_cols = ['Quantity', 'UnitPrice', 'times_viewed', 'total_price']\n",
    "correlation_matrix = unified_df[numerical_cols].corr()\n",
    "\n",
    "# Plotting\n",
    "plt.figure(figsize=(10, 8))\n",
    "sns.heatmap(correlation_matrix, annot=True, cmap='coolwarm', linewidths=.5)\n",
    "plt.title('Correlation Matrix')\n",
    "plt.show()\n"
   ]
  },
  {
   "cell_type": "code",
   "execution_count": 110,
   "id": "6a19afd0",
   "metadata": {},
   "outputs": [
    {
     "name": "stdout",
     "output_type": "stream",
     "text": [
      "Statistical Summary:\n",
      "            Quantity      UnitPrice     CustomerID    customer_id  \\\n",
      "count  541909.000000  541909.000000  406829.000000  792877.000000   \n",
      "mean        9.552250       4.611114   15287.690570   15324.502831   \n",
      "std       218.081158      96.759853    1713.600303    1699.268595   \n",
      "min    -80995.000000  -11062.060000   12346.000000   12346.000000   \n",
      "25%         1.000000       1.250000   13953.000000   13975.000000   \n",
      "50%         3.000000       2.080000   15152.000000   15255.000000   \n",
      "75%        10.000000       4.130000   16791.000000   16801.000000   \n",
      "max     80995.000000   38970.000000   18287.000000   18287.000000   \n",
      "\n",
      "               price   times_viewed    total_price    TimesViewed  \n",
      "count  846960.000000  535154.000000  180439.000000  492245.000000  \n",
      "mean        4.397521       5.299893       5.582112       5.245563  \n",
      "std       119.210817       5.135493     127.145287       5.113308  \n",
      "min    -53594.360000       0.000000       0.000000       0.000000  \n",
      "25%         1.250000       1.000000       1.250000       1.000000  \n",
      "50%         2.100000       3.000000       2.510000       3.000000  \n",
      "75%         4.130000       8.000000       4.250000       8.000000  \n",
      "max     38970.000000      24.000000   17836.460000      24.000000  \n",
      "\n",
      "Outliers in Transaction Amounts:\n",
      "0.01     0.21\n",
      "0.25     1.25\n",
      "0.50     2.51\n",
      "0.75     4.25\n",
      "0.99    20.38\n",
      "Name: total_price, dtype: float64\n",
      "\n",
      "Most Common Countries:\n",
      "country\n",
      "United Kingdom    943897\n",
      "EIRE               17445\n",
      "Germany            16613\n",
      "France             13810\n",
      "Netherlands         5204\n",
      "Name: count, dtype: int64\n"
     ]
    }
   ],
   "source": [
    "# Statistical summary of the dataset\n",
    "print(\"Statistical Summary:\")\n",
    "print(unified_df.describe())\n",
    "\n",
    "# Identifying outliers and common patterns\n",
    "# Assuming 'amount' represents the transaction amount\n",
    "print(\"\\nOutliers in Transaction Amounts:\")\n",
    "print(unified_df['total_price'].quantile([0.01, 0.25, 0.5, 0.75, 0.99]))\n",
    "\n",
    "# Checking for common patterns, such as the most common countries\n",
    "print(\"\\nMost Common Countries:\")\n",
    "print(unified_df['country'].value_counts().head())\n"
   ]
  },
  {
   "cell_type": "code",
   "execution_count": 111,
   "id": "07e4b903",
   "metadata": {},
   "outputs": [],
   "source": [
    "# Define the modeling approaches to compare\n",
    "model_approaches = ['ARIMA', 'SARIMA', 'Random Forest', 'Gradient Boosting', 'LSTM']\n"
   ]
  },
  {
   "cell_type": "code",
   "execution_count": 112,
   "id": "80ef5b35",
   "metadata": {},
   "outputs": [],
   "source": [
    "# Placeholder for final model training and preparation code\n",
    "# This will include the complete data transformation pipeline and model training code\n"
   ]
  },
  {
   "cell_type": "code",
   "execution_count": 113,
   "id": "5b8f8d0e",
   "metadata": {},
   "outputs": [],
   "source": [
    "# Import necessary libraries for each model type\n",
    "from statsmodels.tsa.arima.model import ARIMA\n",
    "from sklearn.ensemble import RandomForestRegressor\n",
    "from sklearn.model_selection import train_test_split\n",
    "from sklearn.metrics import mean_squared_error\n",
    "from math import sqrt\n",
    "import numpy as np\n",
    "\n",
    "# Placeholder function for ARIMA model (you'll need to tailor parameters and data format)\n",
    "def train_arima(train):\n",
    "    model = ARIMA(train, order=(5,1,0))\n",
    "    model_fit = model.fit()\n",
    "    return model_fit\n",
    "\n",
    "# Placeholder function for Random Forest model\n",
    "def train_random_forest(X_train, y_train):\n",
    "    model = RandomForestRegressor(n_estimators=100)\n",
    "    model.fit(X_train, y_train)\n",
    "    return model\n",
    "\n",
    "# Note: Implementation for SARIMA, Gradient Boosting, and LSTM would follow a similar pattern\n",
    "# but tailored to the specifics of each model and the nature of your time-series data.\n"
   ]
  },
  {
   "cell_type": "code",
   "execution_count": 125,
   "id": "975edf1e",
   "metadata": {},
   "outputs": [
    {
     "name": "stderr",
     "output_type": "stream",
     "text": [
      "/var/folders/ls/y6g6szss6jj69q2mqyxzldvw0000gn/T/ipykernel_2416/3914918632.py:10: UserWarning: Could not infer format, so each element will be parsed individually, falling back to `dateutil`. To ensure parsing is consistent and as-expected, please specify a format.\n",
      "  df_retail['InvoiceDate'] = pd.to_datetime(df_retail['InvoiceDate'])  # Convert InvoiceDate to datetime\n"
     ]
    }
   ],
   "source": [
    "import pandas as pd\n",
    "\n",
    "# Use the specific file path you've provided\n",
    "csv_file_path = '/Users/joshuapduffy/Online Retail.csv'\n",
    "\n",
    "# Load the CSV file\n",
    "df_retail = pd.read_csv(csv_file_path)\n",
    "\n",
    "# Preliminary data preparation steps\n",
    "df_retail['InvoiceDate'] = pd.to_datetime(df_retail['InvoiceDate'])  # Convert InvoiceDate to datetime\n",
    "df_retail['TotalSales'] = df_retail['Quantity'] * df_retail['UnitPrice']  # Calculate TotalSales\n",
    "\n",
    "# Here you would continue with any specific data cleaning or preparation required for your analysis\n",
    "\n"
   ]
  },
  {
   "cell_type": "code",
   "execution_count": 117,
   "id": "4c8e888e",
   "metadata": {},
   "outputs": [],
   "source": [
    "df_retail['InvoiceDate'] = pd.to_datetime(df_retail['InvoiceDate'], format='%m/%d/%y %H:%M')\n"
   ]
  },
  {
   "cell_type": "code",
   "execution_count": 89,
   "id": "a27a2ae6",
   "metadata": {},
   "outputs": [],
   "source": [
    "# Example of preparing data for a time series forecasting model\n",
    "\n",
    "# For simplicity, let's aggregate sales data by day\n",
    "daily_sales = df_retail.resample('D', on='InvoiceDate').TotalSales.sum().reset_index()\n",
    "\n",
    "# Creating features\n",
    "daily_sales['DayOfWeek'] = daily_sales['InvoiceDate'].dt.dayofweek\n",
    "daily_sales['Month'] = daily_sales['InvoiceDate'].dt.month\n",
    "\n",
    "# Assuming a simple model that predicts daily sales based on the day of the week and month\n",
    "X = daily_sales[['DayOfWeek', 'Month']]\n",
    "y = daily_sales['TotalSales']\n",
    "\n",
    "# Splitting the dataset\n",
    "from sklearn.model_selection import train_test_split\n",
    "X_train, X_test, y_train, y_test = train_test_split(X, y, test_size=0.2, random_state=42)\n"
   ]
  },
  {
   "cell_type": "code",
   "execution_count": 90,
   "id": "e3fed499",
   "metadata": {},
   "outputs": [
    {
     "name": "stdout",
     "output_type": "stream",
     "text": [
      "Best parameters found:  {'max_depth': 10, 'n_estimators': 200}\n"
     ]
    }
   ],
   "source": [
    "from sklearn.ensemble import RandomForestRegressor\n",
    "from sklearn.model_selection import GridSearchCV\n",
    "\n",
    "# Define the parameter grid\n",
    "parameters = {\n",
    "    'n_estimators': [50, 100, 200],\n",
    "    'max_depth': [None, 10, 20, 30]\n",
    "}\n",
    "\n",
    "# Initialize the model and GridSearchCV\n",
    "rf = RandomForestRegressor(random_state=42)\n",
    "clf = GridSearchCV(rf, parameters, cv=5)\n",
    "\n",
    "# Fit the model\n",
    "clf.fit(X_train, y_train)\n",
    "\n",
    "# Print the best parameters found\n",
    "print(\"Best parameters found: \", clf.best_params_)\n"
   ]
  },
  {
   "cell_type": "code",
   "execution_count": 91,
   "id": "81437f5c",
   "metadata": {},
   "outputs": [
    {
     "data": {
      "text/html": [
       "<style>#sk-container-id-1 {color: black;}#sk-container-id-1 pre{padding: 0;}#sk-container-id-1 div.sk-toggleable {background-color: white;}#sk-container-id-1 label.sk-toggleable__label {cursor: pointer;display: block;width: 100%;margin-bottom: 0;padding: 0.3em;box-sizing: border-box;text-align: center;}#sk-container-id-1 label.sk-toggleable__label-arrow:before {content: \"▸\";float: left;margin-right: 0.25em;color: #696969;}#sk-container-id-1 label.sk-toggleable__label-arrow:hover:before {color: black;}#sk-container-id-1 div.sk-estimator:hover label.sk-toggleable__label-arrow:before {color: black;}#sk-container-id-1 div.sk-toggleable__content {max-height: 0;max-width: 0;overflow: hidden;text-align: left;background-color: #f0f8ff;}#sk-container-id-1 div.sk-toggleable__content pre {margin: 0.2em;color: black;border-radius: 0.25em;background-color: #f0f8ff;}#sk-container-id-1 input.sk-toggleable__control:checked~div.sk-toggleable__content {max-height: 200px;max-width: 100%;overflow: auto;}#sk-container-id-1 input.sk-toggleable__control:checked~label.sk-toggleable__label-arrow:before {content: \"▾\";}#sk-container-id-1 div.sk-estimator input.sk-toggleable__control:checked~label.sk-toggleable__label {background-color: #d4ebff;}#sk-container-id-1 div.sk-label input.sk-toggleable__control:checked~label.sk-toggleable__label {background-color: #d4ebff;}#sk-container-id-1 input.sk-hidden--visually {border: 0;clip: rect(1px 1px 1px 1px);clip: rect(1px, 1px, 1px, 1px);height: 1px;margin: -1px;overflow: hidden;padding: 0;position: absolute;width: 1px;}#sk-container-id-1 div.sk-estimator {font-family: monospace;background-color: #f0f8ff;border: 1px dotted black;border-radius: 0.25em;box-sizing: border-box;margin-bottom: 0.5em;}#sk-container-id-1 div.sk-estimator:hover {background-color: #d4ebff;}#sk-container-id-1 div.sk-parallel-item::after {content: \"\";width: 100%;border-bottom: 1px solid gray;flex-grow: 1;}#sk-container-id-1 div.sk-label:hover label.sk-toggleable__label {background-color: #d4ebff;}#sk-container-id-1 div.sk-serial::before {content: \"\";position: absolute;border-left: 1px solid gray;box-sizing: border-box;top: 0;bottom: 0;left: 50%;z-index: 0;}#sk-container-id-1 div.sk-serial {display: flex;flex-direction: column;align-items: center;background-color: white;padding-right: 0.2em;padding-left: 0.2em;position: relative;}#sk-container-id-1 div.sk-item {position: relative;z-index: 1;}#sk-container-id-1 div.sk-parallel {display: flex;align-items: stretch;justify-content: center;background-color: white;position: relative;}#sk-container-id-1 div.sk-item::before, #sk-container-id-1 div.sk-parallel-item::before {content: \"\";position: absolute;border-left: 1px solid gray;box-sizing: border-box;top: 0;bottom: 0;left: 50%;z-index: -1;}#sk-container-id-1 div.sk-parallel-item {display: flex;flex-direction: column;z-index: 1;position: relative;background-color: white;}#sk-container-id-1 div.sk-parallel-item:first-child::after {align-self: flex-end;width: 50%;}#sk-container-id-1 div.sk-parallel-item:last-child::after {align-self: flex-start;width: 50%;}#sk-container-id-1 div.sk-parallel-item:only-child::after {width: 0;}#sk-container-id-1 div.sk-dashed-wrapped {border: 1px dashed gray;margin: 0 0.4em 0.5em 0.4em;box-sizing: border-box;padding-bottom: 0.4em;background-color: white;}#sk-container-id-1 div.sk-label label {font-family: monospace;font-weight: bold;display: inline-block;line-height: 1.2em;}#sk-container-id-1 div.sk-label-container {text-align: center;}#sk-container-id-1 div.sk-container {/* jupyter's `normalize.less` sets `[hidden] { display: none; }` but bootstrap.min.css set `[hidden] { display: none !important; }` so we also need the `!important` here to be able to override the default hidden behavior on the sphinx rendered scikit-learn.org. See: https://github.com/scikit-learn/scikit-learn/issues/21755 */display: inline-block !important;position: relative;}#sk-container-id-1 div.sk-text-repr-fallback {display: none;}</style><div id=\"sk-container-id-1\" class=\"sk-top-container\"><div class=\"sk-text-repr-fallback\"><pre>RandomForestRegressor(max_depth=10, n_estimators=200)</pre><b>In a Jupyter environment, please rerun this cell to show the HTML representation or trust the notebook. <br />On GitHub, the HTML representation is unable to render, please try loading this page with nbviewer.org.</b></div><div class=\"sk-container\" hidden><div class=\"sk-item\"><div class=\"sk-estimator sk-toggleable\"><input class=\"sk-toggleable__control sk-hidden--visually\" id=\"sk-estimator-id-1\" type=\"checkbox\" checked><label for=\"sk-estimator-id-1\" class=\"sk-toggleable__label sk-toggleable__label-arrow\">RandomForestRegressor</label><div class=\"sk-toggleable__content\"><pre>RandomForestRegressor(max_depth=10, n_estimators=200)</pre></div></div></div></div></div>"
      ],
      "text/plain": [
       "RandomForestRegressor(max_depth=10, n_estimators=200)"
      ]
     },
     "execution_count": 91,
     "metadata": {},
     "output_type": "execute_result"
    }
   ],
   "source": [
    "# Assuming clf is your chosen model and parameters from GridSearchCV or similar\n",
    "best_model = RandomForestRegressor(**clf.best_params_)\n",
    "best_model.fit(X, y)  # X and y represent your entire dataset features and target\n"
   ]
  },
  {
   "cell_type": "code",
   "execution_count": 118,
   "id": "acb7df2c",
   "metadata": {},
   "outputs": [
    {
     "name": "stderr",
     "output_type": "stream",
     "text": [
      "/var/folders/ls/y6g6szss6jj69q2mqyxzldvw0000gn/T/ipykernel_2416/3498556304.py:10: UserWarning: Could not infer format, so each element will be parsed individually, falling back to `dateutil`. To ensure parsing is consistent and as-expected, please specify a format.\n",
      "  df_retail['InvoiceDate'] = pd.to_datetime(df_retail['InvoiceDate'])\n"
     ]
    }
   ],
   "source": [
    "import pandas as pd\n",
    "\n",
    "# Correcting the file path as per your request\n",
    "csv_file_path = '/Users/joshuapduffy/Online Retail.csv'  # Updated file path\n",
    "\n",
    "# Load the CSV file\n",
    "df_retail = pd.read_csv(csv_file_path)\n",
    "\n",
    "# Convert the InvoiceDate from string to datetime format\n",
    "df_retail['InvoiceDate'] = pd.to_datetime(df_retail['InvoiceDate'])\n",
    "\n",
    "# Sort the data by InvoiceDate to ensure chronological order for time-series analysis\n",
    "df_retail.sort_values('InvoiceDate', inplace=True)\n",
    "\n",
    "# Simple preprocessing example: Remove cancelled orders\n",
    "# Assuming cancelled orders might be represented by negative quantities\n",
    "df_retail = df_retail[df_retail['Quantity'] > 0]\n",
    "\n",
    "# Calculate total sales for each transaction\n",
    "df_retail['TotalSales'] = df_retail['Quantity'] * df_retail['UnitPrice']\n",
    "\n",
    "# Aggregate sales by day for time-series modeling\n",
    "# This will create a DataFrame with daily sales totals\n",
    "df_daily_sales = df_retail.resample('D', on='InvoiceDate').TotalSales.sum().reset_index()\n"
   ]
  },
  {
   "cell_type": "code",
   "execution_count": 94,
   "id": "ec406944",
   "metadata": {},
   "outputs": [
    {
     "name": "stderr",
     "output_type": "stream",
     "text": [
      "/var/folders/ls/y6g6szss6jj69q2mqyxzldvw0000gn/T/ipykernel_2416/2972159088.py:10: UserWarning: Could not infer format, so each element will be parsed individually, falling back to `dateutil`. To ensure parsing is consistent and as-expected, please specify a format.\n",
      "  df_retail['InvoiceDate'] = pd.to_datetime(df_retail['InvoiceDate'])\n"
     ]
    }
   ],
   "source": [
    "import pandas as pd\n",
    "\n",
    "# Specified CSV file path\n",
    "csv_file_path = '/Users/joshuapduffy/Online Retail.csv'\n",
    "\n",
    "# Load the CSV file\n",
    "df_retail = pd.read_csv(csv_file_path)\n",
    "\n",
    "# Convert the InvoiceDate from string to datetime format for proper time-series analysis\n",
    "df_retail['InvoiceDate'] = pd.to_datetime(df_retail['InvoiceDate'])\n",
    "\n",
    "# Sort the data by InvoiceDate to ensure it is in chronological order\n",
    "df_retail.sort_values('InvoiceDate', inplace=True)\n",
    "\n",
    "# Example of simple preprocessing: Remove cancelled orders\n",
    "# Assuming cancelled orders might be indicated by negative quantities\n",
    "df_retail = df_retail[df_retail['Quantity'] > 0]\n",
    "\n",
    "# Calculate TotalSales as Quantity * UnitPrice\n",
    "df_retail['TotalSales'] = df_retail['Quantity'] * df_retail['UnitPrice']\n",
    "\n",
    "# For time-series modeling, you might want to aggregate sales by day\n",
    "# Here's how to aggregate daily sales totals\n",
    "df_daily_sales = df_retail.resample('D', on='InvoiceDate').TotalSales.sum().reset_index()\n"
   ]
  },
  {
   "cell_type": "code",
   "execution_count": 97,
   "id": "e4410413",
   "metadata": {},
   "outputs": [],
   "source": [
    "# Placeholder path for the JSON file (replace with actual path to your JSON data)\n",
    "json_file_path = '/path/to/your/json_file.json'\n",
    "\n",
    "# Assuming the JSON data is loaded into df_json with a similar structure\n",
    "# Simulate df_json for demonstration purposes\n",
    "# In practice, you would load the JSON file using the json module and convert it to a DataFrame\n",
    "\n",
    "# For demonstration, let's assume df_json is similar to df_retail and is already defined\n",
    "df_json = pd.DataFrame()  # Placeholder - replace with actual loading and processing logic\n",
    "\n",
    "# Preprocess df_json similarly (this is a placeholder - adapt based on your actual JSON structure)\n",
    "# df_json['InvoiceDate'] = pd.to_datetime(df_json['InvoiceDate'])\n",
    "# df_json.sort_values('InvoiceDate', inplace=True)\n",
    "# df_json['TotalSales'] = df_json['Quantity'] * df_json['UnitPrice']\n"
   ]
  },
  {
   "cell_type": "code",
   "execution_count": 98,
   "id": "7ccd5772",
   "metadata": {},
   "outputs": [],
   "source": [
    "# Concatenate the CSV and JSON DataFrames\n",
    "df_combined = pd.concat([df_retail, df_json], ignore_index=True)\n",
    "\n",
    "# Further aggregation or preprocessing as needed\n",
    "df_combined_daily_sales = df_combined.resample('D', on='InvoiceDate').TotalSales.sum().reset_index()\n"
   ]
  },
  {
   "cell_type": "code",
   "execution_count": 99,
   "id": "ee3ecc0b",
   "metadata": {},
   "outputs": [
    {
     "name": "stdout",
     "output_type": "stream",
     "text": [
      "                               SARIMAX Results                                \n",
      "==============================================================================\n",
      "Dep. Variable:                      y   No. Observations:                  374\n",
      "Model:                 ARIMA(5, 1, 0)   Log Likelihood               -4224.421\n",
      "Date:                Fri, 23 Feb 2024   AIC                           8460.841\n",
      "Time:                        11:53:04   BIC                           8484.371\n",
      "Sample:                             0   HQIC                          8470.185\n",
      "                                - 374                                         \n",
      "Covariance Type:                  opg                                         \n",
      "==============================================================================\n",
      "                 coef    std err          z      P>|z|      [0.025      0.975]\n",
      "------------------------------------------------------------------------------\n",
      "ar.L1         -0.4708      0.054     -8.697      0.000      -0.577      -0.365\n",
      "ar.L2         -0.5439      0.046    -11.805      0.000      -0.634      -0.454\n",
      "ar.L3         -0.4701      0.058     -8.147      0.000      -0.583      -0.357\n",
      "ar.L4         -0.3026      0.037     -8.080      0.000      -0.376      -0.229\n",
      "ar.L5         -0.4196      0.041    -10.254      0.000      -0.500      -0.339\n",
      "sigma2      3.997e+08    1.2e-10   3.34e+18      0.000       4e+08       4e+08\n",
      "===================================================================================\n",
      "Ljung-Box (L1) (Q):                  14.93   Jarque-Bera (JB):              1048.05\n",
      "Prob(Q):                              0.00   Prob(JB):                         0.00\n",
      "Heteroskedasticity (H):               2.37   Skew:                             1.17\n",
      "Prob(H) (two-sided):                  0.00   Kurtosis:                        10.87\n",
      "===================================================================================\n",
      "\n",
      "Warnings:\n",
      "[1] Covariance matrix calculated using the outer product of gradients (complex-step).\n",
      "[2] Covariance matrix is singular or near-singular, with condition number 9.83e+32. Standard errors may be unstable.\n"
     ]
    }
   ],
   "source": [
    "from statsmodels.tsa.arima.model import ARIMA\n",
    "\n",
    "# Assuming df_combined_daily_sales contains the aggregated daily sales\n",
    "X = df_combined_daily_sales['TotalSales'].values\n",
    "\n",
    "# Define the model\n",
    "model = ARIMA(X, order=(5,1,0))  # These parameters (p,d,q) should be adjusted based on your data\n",
    "\n",
    "# Fit the model\n",
    "model_fit = model.fit()\n",
    "\n",
    "# Summary of the model\n",
    "print(model_fit.summary())\n"
   ]
  },
  {
   "cell_type": "code",
   "execution_count": 126,
   "id": "7bbded01",
   "metadata": {},
   "outputs": [
    {
     "name": "stdout",
     "output_type": "stream",
     "text": [
      " * Serving Flask app '__main__'\n",
      " * Debug mode: on\n"
     ]
    },
    {
     "name": "stderr",
     "output_type": "stream",
     "text": [
      "WARNING: This is a development server. Do not use it in a production deployment. Use a production WSGI server instead.\n",
      " * Running on http://127.0.0.1:5000\n",
      "Press CTRL+C to quit\n",
      " * Restarting with watchdog (fsevents)\n",
      "Traceback (most recent call last):\n",
      "  File \"/Users/joshuapduffy/anaconda3/lib/python3.11/site-packages/ipykernel_launcher.py\", line 15, in <module>\n",
      "    from ipykernel import kernelapp as app\n",
      "  File \"/Users/joshuapduffy/anaconda3/lib/python3.11/site-packages/ipykernel/__init__.py\", line 5, in <module>\n",
      "    from .connect import *  # noqa\n",
      "    ^^^^^^^^^^^^^^^^^^^^^^\n",
      "  File \"/Users/joshuapduffy/anaconda3/lib/python3.11/site-packages/ipykernel/connect.py\", line 11, in <module>\n",
      "    import jupyter_client\n",
      "  File \"/Users/joshuapduffy/anaconda3/lib/python3.11/site-packages/jupyter_client/__init__.py\", line 8, in <module>\n",
      "    from .asynchronous import AsyncKernelClient  # noqa\n",
      "    ^^^^^^^^^^^^^^^^^^^^^^^^^^^^^^^^^^^^^^^^^^^\n",
      "  File \"/Users/joshuapduffy/anaconda3/lib/python3.11/site-packages/jupyter_client/asynchronous/__init__.py\", line 1, in <module>\n",
      "    from .client import AsyncKernelClient  # noqa\n",
      "    ^^^^^^^^^^^^^^^^^^^^^^^^^^^^^^^^^^^^^\n",
      "  File \"/Users/joshuapduffy/anaconda3/lib/python3.11/site-packages/jupyter_client/asynchronous/client.py\", line 8, in <module>\n",
      "    from jupyter_client.client import KernelClient\n",
      "  File \"/Users/joshuapduffy/anaconda3/lib/python3.11/site-packages/jupyter_client/client.py\", line 22, in <module>\n",
      "    from .connect import ConnectionFileMixin\n",
      "  File \"/Users/joshuapduffy/anaconda3/lib/python3.11/site-packages/jupyter_client/connect.py\", line 27, in <module>\n",
      "    from jupyter_core.paths import jupyter_data_dir\n",
      "  File \"/Users/joshuapduffy/anaconda3/lib/python3.11/site-packages/jupyter_core/paths.py\", line 19, in <module>\n",
      "    from pathlib import Path\n",
      "  File \"/Users/joshuapduffy/anaconda3/lib/python3.11/site-packages/pathlib.py\", line 10, in <module>\n",
      "    from collections import Sequence\n",
      "ImportError: cannot import name 'Sequence' from 'collections' (/Users/joshuapduffy/anaconda3/lib/python3.11/collections/__init__.py)\n"
     ]
    },
    {
     "ename": "SystemExit",
     "evalue": "1",
     "output_type": "error",
     "traceback": [
      "An exception has occurred, use %tb to see the full traceback.\n",
      "\u001b[0;31mSystemExit\u001b[0m\u001b[0;31m:\u001b[0m 1\n"
     ]
    },
    {
     "name": "stderr",
     "output_type": "stream",
     "text": [
      "/Users/joshuapduffy/anaconda3/lib/python3.11/site-packages/IPython/core/interactiveshell.py:3534: UserWarning: To exit: use 'exit', 'quit', or Ctrl-D.\n",
      "  warn(\"To exit: use 'exit', 'quit', or Ctrl-D.\", stacklevel=1)\n"
     ]
    }
   ],
   "source": [
    "# Example using Flask\n",
    "from flask import Flask, request, jsonify\n",
    "app = Flask(__name__)\n",
    "\n",
    "@app.route('/train', methods=['POST'])\n",
    "def train_model():\n",
    "    # Implement model training here\n",
    "    return jsonify({\"status\": \"training started\"})\n",
    "\n",
    "@app.route('/predict', methods=['POST'])\n",
    "def predict():\n",
    "    # Implement model prediction here\n",
    "    data = request.json\n",
    "    prediction = \"mock_prediction\"  # Placeholder\n",
    "    return jsonify({\"prediction\": prediction})\n",
    "\n",
    "@app.route('/logs', methods=['GET'])\n",
    "def get_logs():\n",
    "    # Implement retrieval and return of log files here\n",
    "    logs = \"mock_logs\"  # Placeholder\n",
    "    return jsonify({\"logs\": logs})\n",
    "\n",
    "if __name__ == '__main__':\n",
    "    app.run(debug=True)\n"
   ]
  },
  {
   "cell_type": "code",
   "execution_count": 134,
   "id": "78f1f5d6",
   "metadata": {},
   "outputs": [
    {
     "name": "stdout",
     "output_type": "stream",
     "text": [
      " * Serving Flask app '__main__'\n",
      " * Debug mode: on\n"
     ]
    },
    {
     "name": "stderr",
     "output_type": "stream",
     "text": [
      "WARNING: This is a development server. Do not use it in a production deployment. Use a production WSGI server instead.\n",
      " * Running on http://127.0.0.1:5000\n",
      "Press CTRL+C to quit\n",
      " * Restarting with watchdog (fsevents)\n",
      "Traceback (most recent call last):\n",
      "  File \"/Users/joshuapduffy/anaconda3/lib/python3.11/site-packages/ipykernel_launcher.py\", line 15, in <module>\n",
      "    from ipykernel import kernelapp as app\n",
      "  File \"/Users/joshuapduffy/anaconda3/lib/python3.11/site-packages/ipykernel/__init__.py\", line 5, in <module>\n",
      "    from .connect import *  # noqa\n",
      "    ^^^^^^^^^^^^^^^^^^^^^^\n",
      "  File \"/Users/joshuapduffy/anaconda3/lib/python3.11/site-packages/ipykernel/connect.py\", line 11, in <module>\n",
      "    import jupyter_client\n",
      "  File \"/Users/joshuapduffy/anaconda3/lib/python3.11/site-packages/jupyter_client/__init__.py\", line 8, in <module>\n",
      "    from .asynchronous import AsyncKernelClient  # noqa\n",
      "    ^^^^^^^^^^^^^^^^^^^^^^^^^^^^^^^^^^^^^^^^^^^\n",
      "  File \"/Users/joshuapduffy/anaconda3/lib/python3.11/site-packages/jupyter_client/asynchronous/__init__.py\", line 1, in <module>\n",
      "    from .client import AsyncKernelClient  # noqa\n",
      "    ^^^^^^^^^^^^^^^^^^^^^^^^^^^^^^^^^^^^^\n",
      "  File \"/Users/joshuapduffy/anaconda3/lib/python3.11/site-packages/jupyter_client/asynchronous/client.py\", line 8, in <module>\n",
      "    from jupyter_client.client import KernelClient\n",
      "  File \"/Users/joshuapduffy/anaconda3/lib/python3.11/site-packages/jupyter_client/client.py\", line 22, in <module>\n",
      "    from .connect import ConnectionFileMixin\n",
      "  File \"/Users/joshuapduffy/anaconda3/lib/python3.11/site-packages/jupyter_client/connect.py\", line 27, in <module>\n",
      "    from jupyter_core.paths import jupyter_data_dir\n",
      "  File \"/Users/joshuapduffy/anaconda3/lib/python3.11/site-packages/jupyter_core/paths.py\", line 19, in <module>\n",
      "    from pathlib import Path\n",
      "  File \"/Users/joshuapduffy/anaconda3/lib/python3.11/site-packages/pathlib.py\", line 10, in <module>\n",
      "    from collections import Sequence\n",
      "ImportError: cannot import name 'Sequence' from 'collections' (/Users/joshuapduffy/anaconda3/lib/python3.11/collections/__init__.py)\n"
     ]
    },
    {
     "ename": "SystemExit",
     "evalue": "1",
     "output_type": "error",
     "traceback": [
      "An exception has occurred, use %tb to see the full traceback.\n",
      "\u001b[0;31mSystemExit\u001b[0m\u001b[0;31m:\u001b[0m 1\n"
     ]
    },
    {
     "name": "stderr",
     "output_type": "stream",
     "text": [
      "/Users/joshuapduffy/anaconda3/lib/python3.11/site-packages/IPython/core/interactiveshell.py:3534: UserWarning: To exit: use 'exit', 'quit', or Ctrl-D.\n",
      "  warn(\"To exit: use 'exit', 'quit', or Ctrl-D.\", stacklevel=1)\n"
     ]
    }
   ],
   "source": [
    "from flask import Flask, request, jsonify\n",
    "import pandas as pd\n",
    "\n",
    "app = Flask(__name__)\n",
    "\n",
    "# Load your data\n",
    "df = pd.read_csv('/Users/joshuapduffy/Online Retail.csv')  # Correct path to your data file\n",
    "\n",
    "@app.route('/train', methods=['POST'])\n",
    "def train():\n",
    "    # Here you would add the code to train your model using df\n",
    "    # As a placeholder:\n",
    "    return jsonify({\"message\": \"Model trained with provided data\"})\n",
    "\n",
    "@app.route('/predict', methods=['POST'])\n",
    "def predict():\n",
    "    # Placeholder for prediction; you would use your model here\n",
    "    # Assuming your model is loaded and named `model`\n",
    "    # You would get the JSON data from request and turn it into a DataFrame\n",
    "    # data = request.get_json()\n",
    "    # input_data = pd.DataFrame(data)\n",
    "    # predictions = model.predict(input_data)\n",
    "    # return jsonify(predictions.tolist())\n",
    "    return jsonify({\"message\": \"This is a predict endpoint placeholder\"})\n",
    "\n",
    "@app.route('/logs', methods=['GET'])\n",
    "def get_logs():\n",
    "    # Placeholder for log retrieval\n",
    "    return jsonify({\"logs\": \"This is a logs retrieval placeholder\"})\n",
    "\n",
    "if __name__ == '__main__':\n",
    "    app.run(debug=True)\n"
   ]
  },
  {
   "cell_type": "code",
   "execution_count": 136,
   "id": "05466afe",
   "metadata": {},
   "outputs": [
    {
     "name": "stdout",
     "output_type": "stream",
     "text": [
      "Current working directory: /Users/joshuapduffy\n",
      "Files in current directory: ['.Rhistory', '.config', 'Music', '.condarc', 'Untitled1.ipynb', 'Online Retail.csv', '.DS_Store', '.CFUserTextEncoding', 'advanced final project.ipynb', '.xonshrc', 'Untitled3.ipynb', 'Untitled.ipynb', '.zshrc', 'OneDrive', '.local', 'projects', 'Pictures', 'Untitled2.ipynb', '.ipython', 'Desktop', 'Library', '.matplotlib', 'models', '.oracle_jre_usage', '.spyder-py3', '__MACOSX', '.cups', '.bash_sessions', 'Google Drive', 'Public', '.tcshrc', '.wapi', '.anaconda', 'Movies', '.Rapp.history', 'concrete_data_week4', '.Trash', '.ipynb_checkpoints', '.jupyter', 'Joshua P. Duffy - Keras Capstone Project', '.keras', 'Documents', 'concrete_data_week4.zip', '.rstudio-desktop', '.mono', '.bash_profile', 'anaconda3', 'Downloads', 'Keras Capstone Joshua P. Duffy', '.continuum', '.bash_history', '.conda']\n"
     ]
    }
   ],
   "source": [
    "import os\n",
    "\n",
    "print(\"Current working directory:\", os.getcwd())\n",
    "print(\"Files in current directory:\", os.listdir('.'))\n"
   ]
  },
  {
   "cell_type": "code",
   "execution_count": 1,
   "id": "636fc59e",
   "metadata": {},
   "outputs": [
    {
     "name": "stdout",
     "output_type": "stream",
     "text": [
      " * Serving Flask app '__main__'\n",
      " * Debug mode: on\n"
     ]
    },
    {
     "name": "stderr",
     "output_type": "stream",
     "text": [
      "WARNING: This is a development server. Do not use it in a production deployment. Use a production WSGI server instead.\n",
      " * Running on http://127.0.0.1:5000\n",
      "Press CTRL+C to quit\n",
      " * Restarting with watchdog (fsevents)\n",
      "Traceback (most recent call last):\n",
      "  File \"/Users/joshuapduffy/anaconda3/lib/python3.11/site-packages/ipykernel_launcher.py\", line 15, in <module>\n",
      "    from ipykernel import kernelapp as app\n",
      "  File \"/Users/joshuapduffy/anaconda3/lib/python3.11/site-packages/ipykernel/__init__.py\", line 5, in <module>\n",
      "    from .connect import *  # noqa\n",
      "    ^^^^^^^^^^^^^^^^^^^^^^\n",
      "  File \"/Users/joshuapduffy/anaconda3/lib/python3.11/site-packages/ipykernel/connect.py\", line 11, in <module>\n",
      "    import jupyter_client\n",
      "  File \"/Users/joshuapduffy/anaconda3/lib/python3.11/site-packages/jupyter_client/__init__.py\", line 8, in <module>\n",
      "    from .asynchronous import AsyncKernelClient  # noqa\n",
      "    ^^^^^^^^^^^^^^^^^^^^^^^^^^^^^^^^^^^^^^^^^^^\n",
      "  File \"/Users/joshuapduffy/anaconda3/lib/python3.11/site-packages/jupyter_client/asynchronous/__init__.py\", line 1, in <module>\n",
      "    from .client import AsyncKernelClient  # noqa\n",
      "    ^^^^^^^^^^^^^^^^^^^^^^^^^^^^^^^^^^^^^\n",
      "  File \"/Users/joshuapduffy/anaconda3/lib/python3.11/site-packages/jupyter_client/asynchronous/client.py\", line 8, in <module>\n",
      "    from jupyter_client.client import KernelClient\n",
      "  File \"/Users/joshuapduffy/anaconda3/lib/python3.11/site-packages/jupyter_client/client.py\", line 22, in <module>\n",
      "    from .connect import ConnectionFileMixin\n",
      "  File \"/Users/joshuapduffy/anaconda3/lib/python3.11/site-packages/jupyter_client/connect.py\", line 27, in <module>\n",
      "    from jupyter_core.paths import jupyter_data_dir\n",
      "  File \"/Users/joshuapduffy/anaconda3/lib/python3.11/site-packages/jupyter_core/paths.py\", line 19, in <module>\n",
      "    from pathlib import Path\n",
      "  File \"/Users/joshuapduffy/anaconda3/lib/python3.11/site-packages/pathlib.py\", line 10, in <module>\n",
      "    from collections import Sequence\n",
      "ImportError: cannot import name 'Sequence' from 'collections' (/Users/joshuapduffy/anaconda3/lib/python3.11/collections/__init__.py)\n"
     ]
    },
    {
     "ename": "SystemExit",
     "evalue": "1",
     "output_type": "error",
     "traceback": [
      "An exception has occurred, use %tb to see the full traceback.\n",
      "\u001b[0;31mSystemExit\u001b[0m\u001b[0;31m:\u001b[0m 1\n"
     ]
    },
    {
     "name": "stderr",
     "output_type": "stream",
     "text": [
      "/Users/joshuapduffy/anaconda3/lib/python3.11/site-packages/IPython/core/interactiveshell.py:3534: UserWarning: To exit: use 'exit', 'quit', or Ctrl-D.\n",
      "  warn(\"To exit: use 'exit', 'quit', or Ctrl-D.\", stacklevel=1)\n"
     ]
    }
   ],
   "source": [
    "# Flask API implementation\n",
    "from flask import Flask, request, jsonify\n",
    "import pandas as pd\n",
    "import numpy as np\n",
    "import json\n",
    "from urllib.request import urlopen\n",
    "import logging\n",
    "from logging.handlers import RotatingFileHandler\n",
    "import os\n",
    "\n",
    "app = Flask(__name__)\n",
    "\n",
    "# Set up logging\n",
    "handler = RotatingFileHandler('api.log', maxBytes=10000, backupCount=3)\n",
    "logger = logging.getLogger(__name__)\n",
    "logger.setLevel(logging.INFO)\n",
    "logger.addHandler(handler)\n",
    "\n",
    "# Placeholder for model\n",
    "model = None\n",
    "\n",
    "@app.route('/train', methods=['POST'])\n",
    "def train():\n",
    "    global model\n",
    "    # Implement model training here and set the model variable\n",
    "    # Log the training\n",
    "    logger.info(\"Model training started.\")\n",
    "    model = \"trained_model_placeholder\"\n",
    "    return jsonify({\"status\": \"training completed\"})\n",
    "\n",
    "@app.route('/predict', methods=['POST'])\n",
    "def predict():\n",
    "    # Implement model prediction here\n",
    "    # Log the prediction\n",
    "    logger.info(\"Prediction request received.\")\n",
    "    data = request.json\n",
    "    prediction = model.predict(data) if model else \"Model not trained\"\n",
    "    return jsonify({\"prediction\": prediction})\n",
    "\n",
    "@app.route('/logs', methods=['GET'])\n",
    "def get_logs():\n",
    "    # Implement retrieval and return of log files here\n",
    "    with open('api.log', 'r') as f:\n",
    "        logs = f.read()\n",
    "    return jsonify({\"logs\": logs})\n",
    "\n",
    "if __name__ == '__main__':\n",
    "    app.run(debug=True, port=5000)\n"
   ]
  },
  {
   "cell_type": "code",
   "execution_count": 2,
   "id": "2746feba",
   "metadata": {},
   "outputs": [],
   "source": [
    "# Step 3: TDD for API\n",
    "\n",
    "# Placeholder for unit tests\n",
    "def test_api():\n",
    "    # Here you would implement unit tests for your API endpoints\n",
    "    # Such as testing if the train endpoint actually trains the model\n",
    "    # And if the predict endpoint returns predictions when the model is trained\n",
    "    pass\n",
    "\n",
    "test_api()\n",
    "\n",
    "# Step 4: Post-production analysis script\n",
    "\n",
    "# Placeholder for post-production analysis\n",
    "def post_production_analysis():\n",
    "    # Here you would implement your analysis script\n",
    "    # This might involve comparing model predictions with actual outcomes\n",
    "    # And analyzing how the model's performance impacts business metrics\n",
    "    pass\n",
    "\n",
    "post_production_analysis()\n",
    "\n",
    "# Step 5: Report Summarization\n",
    "\n",
    "# Placeholder for report summarization\n",
    "def summarize_findings():\n",
    "    # Here you would implement code to summarize the findings of your analysis\n",
    "    # This might involve generating plots, calculating statistics, etc.\n",
    "    pass\n",
    "\n",
    "summarize_findings()\n"
   ]
  },
  {
   "cell_type": "code",
   "execution_count": 4,
   "id": "dba3ec75",
   "metadata": {},
   "outputs": [],
   "source": [
    "import logging\n",
    "logging.basicConfig(filename='performance.log', level=logging.INFO)\n",
    "\n",
    "def log_performance(metric, value):\n",
    "    logging.info(f\"{metric}: {value}\")\n",
    "\n",
    "# Example usage\n",
    "log_performance('Accuracy', 0.95)\n",
    "\n"
   ]
  },
  {
   "cell_type": "code",
   "execution_count": 5,
   "id": "c163dfcd",
   "metadata": {},
   "outputs": [],
   "source": [
    "@app.route('/predict/<country_name>', methods=['GET'])\n",
    "def predict_country(country_name):\n",
    "    # Code to predict for a specific country\n",
    "    pass\n",
    "\n",
    "@app.route('/predict/all', methods=['GET'])\n",
    "def predict_all():\n",
    "    # Code to predict for all countries\n",
    "    pass\n"
   ]
  },
  {
   "cell_type": "code",
   "execution_count": 6,
   "id": "01a983e2",
   "metadata": {},
   "outputs": [],
   "source": [
    "def ingest_data():\n",
    "    # Code to ingest data\n",
    "    pass\n",
    "\n",
    "# Call this function to start ingestion process\n",
    "if __name__ == \"__main__\":\n",
    "    ingest_data()\n"
   ]
  },
  {
   "cell_type": "code",
   "execution_count": null,
   "id": "ca8985ad",
   "metadata": {},
   "outputs": [],
   "source": [
    "# Use an official Python runtime as a parent image\n",
    "FROM python:3.8-slim\n",
    "\n",
    "# Set the working directory in the container\n",
    "WORKDIR /usr/src/app\n",
    "\n",
    "# Copy the current directory contents into the container at /usr/src/app\n",
    "COPY . .\n",
    "\n",
    "# Install any needed packages specified in requirements.txt\n",
    "RUN pip install --no-cache-dir -r requirements.txt\n",
    "\n",
    "# Define environment variable\n",
    "ENV NAME World\n",
    "\n",
    "# Run app.py when the container launches\n",
    "CMD [\"python\", \"app.py\"]\n"
   ]
  }
 ],
 "metadata": {
  "kernelspec": {
   "display_name": "Python 3 (ipykernel)",
   "language": "python",
   "name": "python3"
  },
  "language_info": {
   "codemirror_mode": {
    "name": "ipython",
    "version": 3
   },
   "file_extension": ".py",
   "mimetype": "text/x-python",
   "name": "python",
   "nbconvert_exporter": "python",
   "pygments_lexer": "ipython3",
   "version": "3.11.5"
  }
 },
 "nbformat": 4,
 "nbformat_minor": 5
}
